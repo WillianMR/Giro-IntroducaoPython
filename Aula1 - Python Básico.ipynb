{
 "cells": [
  {
   "cell_type": "markdown",
   "metadata": {},
   "source": [
    "## 1 - Introdução\n",
    "\n",
    "A linguagem Python foi criada pelo matemático e programador holandês Guido van Rossum em 1989. Inspirado no humor do grupo de comediantes Monty Python, criou um novo sistema para o Centrum Wiskunde & Informatica (CWI), na Holanda, onde trabalhava.\n",
    "\n",
    "Nos anos seguintes, aprimorou o sistema e nomeou seu projeto de Computer Programming for Everybody (Programação de Computadores para Todos), por ser uma linguagem fácil, intuitiva, de código aberto e próxima do inglês. Em 2001, o Python foi oficialmente lançado.\n",
    "\n",
    "Com certeza entre os pontos positivos de aprender a programar com Python está a sua versatilidade, ou seja, ele permite programar para web, mobile e games, entre aplicações básicas e avançadas. Devido à sua capacidade de processar grandes bases de dados, também é bastante usado em computação científica, ciência de dados, Inteligência Artificial e suas subáreas, como machine learning e deep learning.\n",
    "\n",
    "Também podemos citar que Python é uma linguagem de código aberto, fácil de aprender, acessível para iniciantes, mas também eficiente para projetos complexos. É marcada pela simplicidade, legibilidade e sua sintaxe simples e direta.\n"
   ]
  },
  {
   "cell_type": "markdown",
   "metadata": {},
   "source": [
    "## 2 - Entrada e Saída\n",
    "\n",
    "No Python temos duas funções básicas para a \"Entrada\" (quando o usuário insere informações para o programa) e \"Saída\"(quando o programa mostra informações ao usuário), se o programa não tiver nenhuma função de entrada ou saída, se não existir erros o programa executa e encerra sem nos mostrar ou solicitar nada.\n"
   ]
  },
  {
   "cell_type": "code",
   "execution_count": null,
   "metadata": {},
   "outputs": [],
   "source": [
    "# Neste programa apenas fazemos o x receber o valor 1\n",
    "x = 1"
   ]
  },
  {
   "cell_type": "markdown",
   "metadata": {},
   "source": [
    "Então para termos uma maior interatividade com o nosso código, podemos usar as funções **```print()```** para a saída de dados (a função \"imprime\" na tela um texto ou informações) e **```input()```** para a entrada de dados (com essa função o programa espera até o usurário digitar algo e pressionar a tecla *Enter*)"
   ]
  },
  {
   "cell_type": "code",
   "execution_count": null,
   "metadata": {},
   "outputs": [],
   "source": [
    "print ('Olá, Mundo!')"
   ]
  },
  {
   "cell_type": "code",
   "execution_count": null,
   "metadata": {},
   "outputs": [],
   "source": [
    "print('O valor de x é:', x)"
   ]
  },
  {
   "cell_type": "code",
   "execution_count": null,
   "metadata": {},
   "outputs": [],
   "source": [
    "print(f'Temos o valor de {x} em x')"
   ]
  },
  {
   "cell_type": "code",
   "execution_count": null,
   "metadata": {},
   "outputs": [],
   "source": [
    "print('Temos o valor de',x,'em x')"
   ]
  },
  {
   "cell_type": "code",
   "execution_count": null,
   "metadata": {},
   "outputs": [],
   "source": [
    "input()"
   ]
  },
  {
   "cell_type": "code",
   "execution_count": null,
   "metadata": {},
   "outputs": [],
   "source": [
    "input(\"Digite algo:\")"
   ]
  },
  {
   "cell_type": "markdown",
   "metadata": {},
   "source": [
    "## 3 - Variáveis - (Tipos de Dados)\n",
    "\n",
    "Em python temos os seguintes tipos de dados:\n",
    "\n",
    "   * int (Integer) - para números inteiros\n",
    "   * float - para números com ponto flutuante\n",
    "   * complex - para números complexos\n",
    "   * str (String) - para conjunto de caracteres\n",
    "   * bool (Boolean) - armazena True ou False\n",
    "   * list [] - para agrupar um conjunto de elementos\n",
    "   * tupla () - semelhante ao tipo list, porém, imutável\n",
    "   * dic {} - para agrupar elementos que serão recuperados por uma chave\n",
    "\n",
    "Quando atribuímos um valor a uma variável, esse valor fica guardado durante toda a execução. Então podemos usar essa variável em operações em todo o código (após a sua definição). Para verificar o tipo de uma variável usamos o comando **```type()```**.\n"
   ]
  },
  {
   "cell_type": "code",
   "execution_count": null,
   "metadata": {},
   "outputs": [],
   "source": [
    "a = 'b'\n",
    "print (a)\n",
    "print(type(a))"
   ]
  },
  {
   "cell_type": "code",
   "execution_count": null,
   "metadata": {},
   "outputs": [],
   "source": [
    "num1 = 5\n",
    "num2 = 5.0\n",
    "\n",
    "print(f'{num1} + {num2} =', num1+num2)\n",
    "print(type(num1))\n",
    "print(type(num2))\n",
    "print(type(num1 + num2))"
   ]
  },
  {
   "cell_type": "code",
   "execution_count": null,
   "metadata": {},
   "outputs": [],
   "source": [
    "nome = input(\"Digite seu nome:\")\n",
    "print(type(nome))\n",
    "idade = input(\"Digite sua idade:\")\n",
    "print(type(idade))"
   ]
  },
  {
   "cell_type": "code",
   "execution_count": null,
   "metadata": {},
   "outputs": [],
   "source": [
    "idade = int(input(\"Digite sua idade:\"))\n",
    "print(type(idade))"
   ]
  },
  {
   "cell_type": "markdown",
   "metadata": {},
   "source": [
    "## 4 - Strings\n",
    "\n",
    "#### Vamos entender melhor como as Strings funcionam e como podemos manipulá-las.\n"
   ]
  },
  {
   "cell_type": "code",
   "execution_count": null,
   "metadata": {},
   "outputs": [],
   "source": [
    "n = '10'\n",
    "print(n + str(10))  #Qual seria o resultado?"
   ]
  },
  {
   "cell_type": "code",
   "execution_count": null,
   "metadata": {},
   "outputs": [],
   "source": [
    "frase = 'a base do teto caiu'\n",
    "print (len(frase)) #Tamanho da frase"
   ]
  },
  {
   "cell_type": "code",
   "execution_count": null,
   "metadata": {},
   "outputs": [],
   "source": [
    "frase2 = frase.replace('caiu', 'desaba').capitalize()  #Substitui a primeira string pela segunda\n",
    "print(frase2)"
   ]
  },
  {
   "cell_type": "code",
   "execution_count": null,
   "metadata": {},
   "outputs": [],
   "source": [
    "print(frase2.upper())  #Tranforma a string em maiúsculo\n",
    "print(frase2.lower())  #transforma a string em minúsculo"
   ]
  },
  {
   "cell_type": "code",
   "execution_count": null,
   "metadata": {},
   "outputs": [],
   "source": [
    "print(frase2)\n",
    "print(frase2.find('a'))\n",
    "print(frase2.find('A'))"
   ]
  },
  {
   "cell_type": "code",
   "execution_count": null,
   "metadata": {
    "scrolled": true
   },
   "outputs": [],
   "source": [
    "print(frase2[5])    #quinto caractere\n",
    "print(frase2[5:])   #do quinto caractere em diante\n",
    "print(frase2[:5])   #do inicio ao quinto caractere\n",
    "print(frase2[7:14]) #do sétimo ao décimo quarto caractere\n",
    "print(frase2[-1])  #Último caractere\n",
    "print(frase2[:-5]) #todos caracteres exceto os 5 ultimos\n",
    "print(frase2[::-1].upper())  #texto inverso\n",
    "print(frase2[::2])  #posições ímpares\n",
    "print(frase2[1::2]) #posições pares"
   ]
  },
  {
   "cell_type": "code",
   "execution_count": null,
   "metadata": {
    "scrolled": true
   },
   "outputs": [],
   "source": [
    "texto = 'Um triângulo de base igual a {0} e altura igual a {1} possui área igual a {2}.'.format(3, 6, 9)\n",
    "print(texto)"
   ]
  },
  {
   "cell_type": "markdown",
   "metadata": {},
   "source": [
    "## 5 - Operações Matemáticas\n",
    "\n",
    " Operação       | Operador\n",
    "---------       | ------\n",
    "Adição          | +\n",
    "Subtração       | -\n",
    "Multiplicação   | *\n",
    "Divisão         | /\n",
    "Divisão Inteira | //\n",
    "Resto de divisão| %\n",
    "Exponenciação   | **"
   ]
  },
  {
   "cell_type": "code",
   "execution_count": null,
   "metadata": {},
   "outputs": [],
   "source": [
    "numero1 = float(input(\"Digite o primeiro número:\"))\n",
    "numero2 = float(input(\"Digite o segundo número:\"))\n",
    "\n",
    "print(f\"O resultado da soma de {numero1} com {numero2} é:\", numero1+numero2)\n",
    "print(f\"O resultado da subtração de {numero1} com {numero2} é:\", numero1-numero2)\n",
    "print(f\"O resultado da multiplicação de {numero1} com {numero2} é:\", numero1*numero2)\n",
    "print(f\"O resultado da divisão de {numero1} com {numero2} é:\", numero1/numero2)\n",
    "print(f\"O resultado da divisão inteira de {numero1} com {numero2} é:\", numero1//numero2)\n",
    "print(f\"O resto da divisão de {numero1} com {numero2} é:\", numero1%numero2)\n",
    "print(f\"O resultado de {numero1} elevado a {numero2} é:\", numero1**numero2)"
   ]
  },
  {
   "cell_type": "markdown",
   "metadata": {},
   "source": [
    " ### Outras Operações\n",
    " \n",
    " Operador       | Descrição |  \n",
    "---------       | -----     | \n",
    "and             | Operador Lógico \"E\"         |\n",
    "or              | Operador Lógico \"OU\"       |\n",
    "not             | Operador Lógico \"Inversor\"         |\n",
    "==              | Verifica igualdade     |\n",
    "!=              | Verifica Diferença        |\n",
    ">               | Verifica maior      |\n",
    "<               | Verifica menor        |\n",
    ">=              | Verifica maior ou igual        |\n",
    "<=              | Verifica menor ou igual        |\n"
   ]
  },
  {
   "cell_type": "code",
   "execution_count": null,
   "metadata": {},
   "outputs": [],
   "source": [
    "numero1 = float(input(\"Digite o primeiro número:\"))\n",
    "numero2 = float(input(\"Digite o segundo número:\"))\n",
    "\n",
    "print(f\"{numero1} == {numero2}?\", numero1==numero2)\n",
    "print(f\"{numero1} != {numero2}?\", not (numero1==numero2)) #Poderiamos usar numero1 != numero2\n",
    "print(f\"{numero1} == 5 e {numero2} == 10?\", (numero1==5 and numero2==10))\n",
    "print(f\"{numero1} == 5 ou {numero2} == 10?\", (numero1==5 or numero2==10))\n",
    "print(f\"{numero1} > {numero2}?\", numero1>numero2)\n",
    "print(f\"{numero1} < {numero2}?\", numero1<numero2)\n"
   ]
  }
 ],
 "metadata": {
  "kernelspec": {
   "display_name": "Python 3",
   "language": "python",
   "name": "python3"
  },
  "language_info": {
   "codemirror_mode": {
    "name": "ipython",
    "version": 3
   },
   "file_extension": ".py",
   "mimetype": "text/x-python",
   "name": "python",
   "nbconvert_exporter": "python",
   "pygments_lexer": "ipython3",
   "version": "3.8.5"
  }
 },
 "nbformat": 4,
 "nbformat_minor": 4
}
